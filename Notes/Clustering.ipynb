{
 "cells": [
  {
   "cell_type": "code",
   "execution_count": 3,
   "metadata": {
    "collapsed": true
   },
   "outputs": [],
   "source": [
    "import psycopg2\n",
    "import pandas as pd\n",
    "import numpy as np\n",
    "import statsmodels.api as sm\n",
    "from scipy import stats\n",
    "import matplotlib.pyplot as plt\n",
    "%matplotlib inline"
   ]
  },
  {
   "cell_type": "code",
   "execution_count": 4,
   "metadata": {
    "collapsed": false
   },
   "outputs": [
    {
     "name": "stdout",
     "output_type": "stream",
     "text": [
      "Creating Database\n",
      "Connecting to Database\n",
      "Creating Crime Table\n",
      "Creating shape table...\n",
      "Creating Crime Geom Table\n"
     ]
    }
   ],
   "source": [
    "execfile(\"database.py\")"
   ]
  },
  {
   "cell_type": "code",
   "execution_count": 5,
   "metadata": {
    "collapsed": true
   },
   "outputs": [],
   "source": [
    "conn = psycopg2.connect(\"dbname=oakland user=danaezoule\")\n",
    "cur = conn.cursor()\n",
    "cur.execute(\"SELECT * FROM crime_blocks;\")\n",
    "df = pd.DataFrame(cur.fetchall())"
   ]
  },
  {
   "cell_type": "code",
   "execution_count": 6,
   "metadata": {
    "collapsed": true
   },
   "outputs": [],
   "source": [
    "cdf = df.copy()"
   ]
  },
  {
   "cell_type": "code",
   "execution_count": null,
   "metadata": {
    "collapsed": true
   },
   "outputs": [],
   "source": [
    "cdf.columns = ['Idx', 'OPD_RD', 'Date', 'Time', 'Lat', 'Lng', 'year', 'year_month', 'quality', 'nonviolent', 'car_break_in', 'car_theft', 'violent', 'geom', 'block_group']\n",
    "cdf['quarter'] = pd.DatetimeIndex(cdf.Date).quarter\n",
    "cdf['day_of_week'] = pd.DatetimeIndex(cdf.Date).dayofweek\n",
    "cdf['week'] = pd.DatetimeIndex(cdf.Date).week\n",
    "cdf['month'] = pd.DatetimeIndex(cdf.Date).month\n",
    "cdf['day'] = pd.DatetimeIndex(cdf.Date).day\n",
    "cdf['day_of_year'] = pd.DatetimeIndex(cdf.Date).dayofyear\n",
    "cdf['week_of_year'] = pd.DatetimeIndex(cdf.Date).weekofyear\n",
    "cdf['hour'] = [i.hour for i in cdf.Time]\n",
    "#combine date and time column so I can plot over 'em\n",
    "cdf['Datetime'] = pd.to_datetime(cdf['Date'].astype(str) + ' ' + cdf['Time'].astype(str))"
   ]
  }
 ],
 "metadata": {
  "kernelspec": {
   "display_name": "Python 2",
   "language": "python",
   "name": "python2"
  },
  "language_info": {
   "codemirror_mode": {
    "name": "ipython",
    "version": 2
   },
   "file_extension": ".py",
   "mimetype": "text/x-python",
   "name": "python",
   "nbconvert_exporter": "python",
   "pygments_lexer": "ipython2",
   "version": "2.7.10"
  }
 },
 "nbformat": 4,
 "nbformat_minor": 0
}
