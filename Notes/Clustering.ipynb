{
 "cells": [
  {
   "cell_type": "code",
   "execution_count": 1,
   "metadata": {
    "collapsed": true
   },
   "outputs": [],
   "source": [
    "import psycopg2\n",
    "import pandas as pd\n",
    "import numpy as np\n",
    "import statsmodels.api as sm\n",
    "from scipy import stats\n",
    "import matplotlib.pyplot as plt\n",
    "%matplotlib inline"
   ]
  },
  {
   "cell_type": "code",
   "execution_count": 44,
   "metadata": {
    "collapsed": false
   },
   "outputs": [
    {
     "name": "stdout",
     "output_type": "stream",
     "text": [
      "\n"
     ]
    }
   ],
   "source": [
    "'''\n",
    "cdf.columns = ['Idx', 'OPD_RD', 'Date', 'Time', 'Lat', 'Lng', 'year', 'year_month', 'quality', 'nonviolent', 'car_break_in', 'car_theft', 'violent', 'geom', 'block_group']\n",
    "#cdf['quarter'] = pd.DatetimeIndex(cdf.Date).quarter\n",
    "cdf['day_of_week'] = pd.DatetimeIndex(cdf.Date).dayofweek\n",
    "#cdf['week'] = pd.DatetimeIndex(cdf.Date).week\n",
    "#cdf['month'] = pd.DatetimeIndex(cdf.Date).month\n",
    "#cdf['day'] = pd.DatetimeIndex(cdf.Date).day\n",
    "#cdf['day_of_year'] = pd.DatetimeIndex(cdf.Date).dayofyear\n",
    "#cdf['week_of_year'] = pd.DatetimeIndex(cdf.Date).weekofyear\n",
    "cdf['hour'] = [i.hour for i in cdf.Time]\n",
    "#combine date and time column so I can plot over 'em\n",
    "#cdf['Datetime'] = pd.to_datetime(cdf['Date'].astype(str) + ' ' + cdf['Time'].astype(str))\n",
    "'''"
   ]
  },
  {
   "cell_type": "code",
   "execution_count": 24,
   "metadata": {
    "collapsed": false
   },
   "outputs": [],
   "source": [
    "conn = psycopg2.connect(\"dbname=oakland user=danaezoule\")\n",
    "cur = conn.cursor()\n",
    "cur.execute(\"SELECT * FROM area_features;\")\n",
    "df = pd.DataFrame(cur.fetchall())\n",
    "cdf = df.copy()\n",
    "cdf.columns = ['Group_Block', 'Year', 'Quality', 'Nonviolent', 'Vehicle_Break_In', 'Vehicle_Theft', 'Violent']"
   ]
  },
  {
   "cell_type": "code",
   "execution_count": 30,
   "metadata": {
    "collapsed": true
   },
   "outputs": [],
   "source": [
    "# Splitting data by year, clustering by first year, predicting clusters for following years.\n",
    "# Simple clustering model - first pass - on count on crimes in each category.\n",
    "from sklearn.cluster import KMeans\n",
    "km = KMeans()\n",
    "columns = ['Quality', 'Nonviolent', 'Vehicle_Break_In', 'Vehicle_Theft', 'Violent']\n",
    "clus = km.fit_predict(cdf[cdf.Year == 2009].sort('Group_Block')[columns])\n",
    "clus10 = km.predict(cdf[cdf.Year == 2010].sort('Group_Block')[columns])\n",
    "clus11 = km.predict(cdf[cdf.Year == 2011].sort('Group_Block')[columns])"
   ]
  },
  {
   "cell_type": "code",
   "execution_count": null,
   "metadata": {
    "collapsed": true
   },
   "outputs": [],
   "source": [
    "'''Feature Engineering Brainstorming:\n",
    "Normalization:\n",
    "    #Normalize by population: none, assume census divisions cover this\n",
    "    #Normalize by geography (square footage or meterage) -no, don't want to double norm\n",
    "    #Normalize by total crime count -see next point\n",
    "    Normalize beach column by mean/stdev\n",
    "\n",
    "#Geographical:\n",
    "#    Census tracts, group blocks, or blocks\n",
    "#        Group blocks\n",
    "\n",
    "#Time Group By:\n",
    "#    Month, quarter, year\n",
    "#        year\n",
    "\n",
    "Time features:\n",
    "     #Day of week\n",
    "@    Count for weekday or weekend\n",
    "@    Count for time of day (morning, afternoon, eve, night)\n",
    "        Split by data. First hypothesis:\n",
    "@        Morning: 6am-noon\n",
    "@        Afternoon: noon-6pm\n",
    "@        Eve: 6pm-midnight\n",
    "@        Early: midnight-6am\n",
    "    \n",
    "#Housing etc:\n",
    "#    Are Trulia neighborhoods census tracts? Can I get block group info from Trulia?\n",
    "#    Will the ACS be helpful? Can I get yearly or quarterly ACS information?\n",
    "    \n",
    "#Time component:\n",
    "#    Create centroids from earliest data, map all points to same centroids\n",
    "    Create new centroids for each year (with varied data) as below \n",
    "    \n",
    "Data that varies from year to year:\n",
    "    If I use it, can I detect similar centroids between years?\n",
    "    Should I instead ignore this completely, despite losing rental data?\n",
    "'''"
   ]
  },
  {
   "cell_type": "code",
   "execution_count": 166,
   "metadata": {
    "collapsed": false
   },
   "outputs": [],
   "source": [
    "conn = psycopg2.connect(\"dbname=oakland user=danaezoule\")\n",
    "cur = conn.cursor()\n",
    "cur.execute(\"SELECT * FROM crime_blocks;\")\n",
    "df = pd.DataFrame(cur.fetchall())\n",
    "cdf = df.copy()\n",
    "cdf.columns = cdf.columns = ['Idx', 'OPD_RD', 'Date', 'Time', 'Lat', 'Lng', 'year', 'year_month', 'quality', 'nonviolent', 'car_break_in', 'car_theft', 'violent', 'geom', 'group_block']\n",
    "cdf['day_of_week'] = pd.DatetimeIndex(cdf.Date).dayofweek\n",
    "cdf['hour'] = [i.hour for i in cdf.Time]\n",
    "cdf['weekend'] = cdf.day_of_week.isin([5,6])\n",
    "cdf['morning'] = cdf.hour.isin([1, 2, 3, 4, 5, 6, 7])\n",
    "cdf['workday'] = cdf.hour.isin([8, 9, 10, 11, 12, 13, 14, 15])\n",
    "cdf['evening'] = cdf.hour.isin([16, 17, 18, 19, 20, 21, 22, 23])"
   ]
  },
  {
   "cell_type": "code",
   "execution_count": 140,
   "metadata": {
    "collapsed": false,
    "scrolled": false
   },
   "outputs": [
    {
     "data": {
      "text/plain": [
       "<matplotlib.axes._subplots.AxesSubplot at 0x131c23590>"
      ]
     },
     "execution_count": 140,
     "metadata": {},
     "output_type": "execute_result"
    },
    {
     "data": {
      "image/png": "[encoded data removed]",
      "text/plain": [
       "<matplotlib.figure.Figure at 0x1323c9890>"
      ]
     },
     "metadata": {},
     "output_type": "display_data"
    }
   ],
   "source": [
    "# Quality crimes have low from 2am-7am, peak at 6pm\n",
    "cdf.groupby('hour').quality.sum().plot()"
   ]
  },
  {
   "cell_type": "code",
   "execution_count": 63,
   "metadata": {
    "collapsed": false
   },
   "outputs": [
    {
     "data": {
      "text/plain": [
       "<matplotlib.axes._subplots.AxesSubplot at 0x13096bb10>"
      ]
     },
     "execution_count": 63,
     "metadata": {},
     "output_type": "execute_result"
    },
    {
     "data": {
      "image/png": "[encoded data removed]",
      "text/plain": [
       "<matplotlib.figure.Figure at 0x1308e2a90>"
      ]
     },
     "metadata": {},
     "output_type": "display_data"
    }
   ],
   "source": [
    "# Nonviolent crimes have low from 1am - 6am\n",
    "cdf.groupby('hour').nonviolent.sum().plot()"
   ]
  },
  {
   "cell_type": "code",
   "execution_count": 59,
   "metadata": {
    "collapsed": false
   },
   "outputs": [
    {
     "data": {
      "text/plain": [
       "<matplotlib.axes._subplots.AxesSubplot at 0x1270fcb90>"
      ]
     },
     "execution_count": 59,
     "metadata": {},
     "output_type": "execute_result"
    },
    {
     "data": {
      "image/png": "[encoded data removed]",
      "text/plain": [
       "<matplotlib.figure.Figure at 0x1313b6950>"
      ]
     },
     "metadata": {},
     "output_type": "display_data"
    }
   ],
   "source": [
    "# Violent crimes have low from 2am - 8am, peak at 10/11pm\n",
    "cdf.groupby('hour').violent.sum().plot()"
   ]
  },
  {
   "cell_type": "code",
   "execution_count": 61,
   "metadata": {
    "collapsed": false
   },
   "outputs": [
    {
     "data": {
      "text/plain": [
       "<matplotlib.axes._subplots.AxesSubplot at 0x1305ae5d0>"
      ]
     },
     "execution_count": 61,
     "metadata": {},
     "output_type": "execute_result"
    },
    {
     "data": {
      "image/png": "[encoded data removed]",
      "text/plain": [
       "<matplotlib.figure.Figure at 0x1306d34d0>"
      ]
     },
     "metadata": {},
     "output_type": "display_data"
    }
   ],
   "source": [
    "# Car break ins are low from 2am - 7am, peak 7pmish (dinner?)\n",
    "cdf.groupby('hour').car_break_in.sum().plot()"
   ]
  },
  {
   "cell_type": "code",
   "execution_count": 62,
   "metadata": {
    "collapsed": false
   },
   "outputs": [
    {
     "data": {
      "text/plain": [
       "<matplotlib.axes._subplots.AxesSubplot at 0x1307896d0>"
      ]
     },
     "execution_count": 62,
     "metadata": {},
     "output_type": "execute_result"
    },
    {
     "data": {
      "image/png": "[encoded data removed]",
      "text/plain": [
       "<matplotlib.figure.Figure at 0x1308f7910>"
      ]
     },
     "metadata": {},
     "output_type": "display_data"
    }
   ],
   "source": [
    "# Car thefts have low 2am - 7am, peak late 10pm/11pm\n",
    "cdf.groupby('hour').car_theft.sum().plot()"
   ]
  },
  {
   "cell_type": "code",
   "execution_count": 144,
   "metadata": {
    "collapsed": false
   },
   "outputs": [
    {
     "data": {
      "text/plain": [
       "array([[<matplotlib.axes._subplots.AxesSubplot object at 0x12d9af390>]], dtype=object)"
      ]
     },
     "execution_count": 144,
     "metadata": {},
     "output_type": "execute_result"
    },
    {
     "data": {
      "image/png": "[encoded data removed]",
      "text/plain": [
       "<matplotlib.figure.Figure at 0x12d90a2d0>"
      ]
     },
     "metadata": {},
     "output_type": "display_data"
    }
   ],
   "source": [
    "# From this I conclude that use of the 0 label is similar across neighborhoods.\n",
    "# I will drop it out of engineered time features!\n",
    "hour_zero = cdf[cdf.hour == 0].groupby('group_block')[['quality', 'nonviolent', 'car_break_in', 'car_theft', 'violent']].sum().sum(axis=1)\n",
    "all_hrs = cdf.groupby('group_block')[['quality', 'nonviolent', 'car_break_in', 'car_theft', 'violent']].sum().sum(axis=1)\n",
    "newdf = pd.DataFrame(hour_zero) / pd.DataFrame(all_hrs[all_hrs > 4])\n",
    "newdf.hist()"
   ]
  },
  {
   "cell_type": "code",
   "execution_count": 170,
   "metadata": {
    "collapsed": false
   },
   "outputs": [
    {
     "data": {
      "text/plain": [
       "<matplotlib.axes._subplots.AxesSubplot at 0x12d690050>"
      ]
     },
     "execution_count": 170,
     "metadata": {},
     "output_type": "execute_result"
    },
    {
     "data": {
      "image/png": "[encoded data removed]",
      "text/plain": [
       "<matplotlib.figure.Figure at 0x12c660f10>"
      ]
     },
     "metadata": {},
     "output_type": "display_data"
    }
   ],
   "source": [
    "cdf.groupby('day_of_week').car_theft.sum().plot()"
   ]
  },
  {
   "cell_type": "code",
   "execution_count": 191,
   "metadata": {
    "collapsed": false
   },
   "outputs": [],
   "source": [
    "tdf = pd.get_dummies(cdf, prefix='hr', columns=['hour'])\n",
    "tdf = pd.get_dummies(tdf, prefix='dow', columns=['day_of_week'])\n",
    "tdf.drop(['Idx','Lat','Lng','year_month'], axis=1, inplace=True)"
   ]
  },
  {
   "cell_type": "code",
   "execution_count": 198,
   "metadata": {
    "collapsed": false
   },
   "outputs": [],
   "source": [
    "# look for outliers with respect to hour, day of week... preferably on a map, with hoverover\n",
    "# lat/long outliers are controlled for by only selecting areas with crime counts with min 1/year"
   ]
  },
  {
   "cell_type": "code",
   "execution_count": 225,
   "metadata": {
    "collapsed": false,
    "scrolled": true
   },
   "outputs": [],
   "source": [
    "# Exclude group blocks that don't have at least one crime count per year\n",
    "tmp = tdf.groupby(['group_block']).year.nunique()\n",
    "good_gbs = [i for i, v in tmp.iteritems() if v>=6]\n",
    "ndf = tdf[tdf.group_block.isin(good_gbs)]"
   ]
  },
  {
   "cell_type": "code",
   "execution_count": 236,
   "metadata": {
    "collapsed": false
   },
   "outputs": [
    {
     "data": {
      "text/plain": [
       "<matplotlib.axes._subplots.AxesSubplot at 0x1329c4690>"
      ]
     },
     "execution_count": 236,
     "metadata": {},
     "output_type": "execute_result"
    },
    {
     "data": {
      "image/png": "[encoded data removed]",
      "text/plain": [
       "<matplotlib.figure.Figure at 0x132ec76d0>"
      ]
     },
     "metadata": {},
     "output_type": "display_data"
    }
   ],
   "source": [
    "# Would like to see histogram of total crime counts over neighborhoods to find outliers\n",
    "ndf.groupby('group_block')[['violent', 'nonviolent', 'quality', 'car_break_in', 'car_theft']].sum().sum(axis=1).hist(bins=100)"
   ]
  },
  {
   "cell_type": "code",
   "execution_count": 227,
   "metadata": {
    "collapsed": false
   },
   "outputs": [
    {
     "data": {
      "text/html": [
       "<div>\n",
       "<table border=\"1\" class=\"dataframe\">\n",
       "  <thead>\n",
       "    <tr style=\"text-align: right;\">\n",
       "      <th></th>\n",
       "      <th>OPD_RD</th>\n",
       "      <th>Date</th>\n",
       "      <th>Time</th>\n",
       "      <th>year</th>\n",
       "      <th>quality</th>\n",
       "      <th>nonviolent</th>\n",
       "      <th>car_break_in</th>\n",
       "      <th>car_theft</th>\n",
       "      <th>violent</th>\n",
       "      <th>geom</th>\n",
       "      <th>...</th>\n",
       "      <th>hr_21</th>\n",
       "      <th>hr_22</th>\n",
       "      <th>hr_23</th>\n",
       "      <th>dow_0</th>\n",
       "      <th>dow_1</th>\n",
       "      <th>dow_2</th>\n",
       "      <th>dow_3</th>\n",
       "      <th>dow_4</th>\n",
       "      <th>dow_5</th>\n",
       "      <th>dow_6</th>\n",
       "    </tr>\n",
       "  </thead>\n",
       "  <tbody>\n",
       "    <tr>\n",
       "      <th>0</th>\n",
       "      <td>01-015068</td>\n",
       "      <td>2010-02-24</td>\n",
       "      <td>00:00:00</td>\n",
       "      <td>2010</td>\n",
       "      <td>0</td>\n",
       "      <td>1</td>\n",
       "      <td>0</td>\n",
       "      <td>0</td>\n",
       "      <td>0</td>\n",
       "      <td>0101000020E6100000B41EBE4C14925EC0CE6E2D93E1E6...</td>\n",
       "      <td>...</td>\n",
       "      <td>0</td>\n",
       "      <td>0</td>\n",
       "      <td>0</td>\n",
       "      <td>0</td>\n",
       "      <td>0</td>\n",
       "      <td>1</td>\n",
       "      <td>0</td>\n",
       "      <td>0</td>\n",
       "      <td>0</td>\n",
       "      <td>0</td>\n",
       "    </tr>\n",
       "    <tr>\n",
       "      <th>1</th>\n",
       "      <td>01-666666</td>\n",
       "      <td>2009-06-23</td>\n",
       "      <td>00:00:00</td>\n",
       "      <td>2009</td>\n",
       "      <td>0</td>\n",
       "      <td>0</td>\n",
       "      <td>0</td>\n",
       "      <td>0</td>\n",
       "      <td>1</td>\n",
       "      <td>0101000020E61000001C9947FE608D5EC0FC1BB4571FE7...</td>\n",
       "      <td>...</td>\n",
       "      <td>0</td>\n",
       "      <td>0</td>\n",
       "      <td>0</td>\n",
       "      <td>0</td>\n",
       "      <td>1</td>\n",
       "      <td>0</td>\n",
       "      <td>0</td>\n",
       "      <td>0</td>\n",
       "      <td>0</td>\n",
       "      <td>0</td>\n",
       "    </tr>\n",
       "    <tr>\n",
       "      <th>2</th>\n",
       "      <td>06-000000</td>\n",
       "      <td>2009-07-02</td>\n",
       "      <td>00:00:00</td>\n",
       "      <td>2009</td>\n",
       "      <td>1</td>\n",
       "      <td>0</td>\n",
       "      <td>0</td>\n",
       "      <td>0</td>\n",
       "      <td>0</td>\n",
       "      <td>0101000020E6100000696FF085C9915EC09605137F14E7...</td>\n",
       "      <td>...</td>\n",
       "      <td>0</td>\n",
       "      <td>0</td>\n",
       "      <td>0</td>\n",
       "      <td>0</td>\n",
       "      <td>0</td>\n",
       "      <td>0</td>\n",
       "      <td>1</td>\n",
       "      <td>0</td>\n",
       "      <td>0</td>\n",
       "      <td>0</td>\n",
       "    </tr>\n",
       "    <tr>\n",
       "      <th>3</th>\n",
       "      <td>07-037438</td>\n",
       "      <td>2010-05-11</td>\n",
       "      <td>19:59:00</td>\n",
       "      <td>2010</td>\n",
       "      <td>0</td>\n",
       "      <td>0</td>\n",
       "      <td>1</td>\n",
       "      <td>0</td>\n",
       "      <td>0</td>\n",
       "      <td>0101000020E61000007E7214200A8C5EC09259BDC3EDE0...</td>\n",
       "      <td>...</td>\n",
       "      <td>0</td>\n",
       "      <td>0</td>\n",
       "      <td>0</td>\n",
       "      <td>0</td>\n",
       "      <td>1</td>\n",
       "      <td>0</td>\n",
       "      <td>0</td>\n",
       "      <td>0</td>\n",
       "      <td>0</td>\n",
       "      <td>0</td>\n",
       "    </tr>\n",
       "    <tr>\n",
       "      <th>4</th>\n",
       "      <td>08-010193</td>\n",
       "      <td>2015-01-04</td>\n",
       "      <td>14:30:00</td>\n",
       "      <td>2015</td>\n",
       "      <td>0</td>\n",
       "      <td>1</td>\n",
       "      <td>0</td>\n",
       "      <td>0</td>\n",
       "      <td>0</td>\n",
       "      <td>0101000020E610000005BF0D315E905EC03CC1FEEBDCE8...</td>\n",
       "      <td>...</td>\n",
       "      <td>0</td>\n",
       "      <td>0</td>\n",
       "      <td>0</td>\n",
       "      <td>0</td>\n",
       "      <td>0</td>\n",
       "      <td>0</td>\n",
       "      <td>0</td>\n",
       "      <td>0</td>\n",
       "      <td>0</td>\n",
       "      <td>1</td>\n",
       "    </tr>\n",
       "  </tbody>\n",
       "</table>\n",
       "<p>5 rows × 46 columns</p>\n",
       "</div>"
      ],
      "text/plain": [
       "      OPD_RD        Date      Time  year  quality  nonviolent  car_break_in  \\\n",
       "0  01-015068  2010-02-24  00:00:00  2010        0           1             0   \n",
       "1  01-666666  2009-06-23  00:00:00  2009        0           0             0   \n",
       "2  06-000000  2009-07-02  00:00:00  2009        1           0             0   \n",
       "3  07-037438  2010-05-11  19:59:00  2010        0           0             1   \n",
       "4  08-010193  2015-01-04  14:30:00  2015        0           1             0   \n",
       "\n",
       "   car_theft  violent                                               geom  \\\n",
       "0          0        0  0101000020E6100000B41EBE4C14925EC0CE6E2D93E1E6...   \n",
       "1          0        1  0101000020E61000001C9947FE608D5EC0FC1BB4571FE7...   \n",
       "2          0        0  0101000020E6100000696FF085C9915EC09605137F14E7...   \n",
       "3          0        0  0101000020E61000007E7214200A8C5EC09259BDC3EDE0...   \n",
       "4          0        0  0101000020E610000005BF0D315E905EC03CC1FEEBDCE8...   \n",
       "\n",
       "   ...    hr_21 hr_22 hr_23 dow_0 dow_1  dow_2  dow_3  dow_4  dow_5  dow_6  \n",
       "0  ...        0     0     0     0     0      1      0      0      0      0  \n",
       "1  ...        0     0     0     0     1      0      0      0      0      0  \n",
       "2  ...        0     0     0     0     0      0      1      0      0      0  \n",
       "3  ...        0     0     0     0     1      0      0      0      0      0  \n",
       "4  ...        0     0     0     0     0      0      0      0      0      1  \n",
       "\n",
       "[5 rows x 46 columns]"
      ]
     },
     "execution_count": 227,
     "metadata": {},
     "output_type": "execute_result"
    }
   ],
   "source": [
    "ndf.head()"
   ]
  },
  {
   "cell_type": "code",
   "execution_count": null,
   "metadata": {
    "collapsed": true
   },
   "outputs": [],
   "source": []
  }
 ],
 "metadata": {
  "kernelspec": {
   "display_name": "Python 2",
   "language": "python",
   "name": "python2"
  },
  "language_info": {
   "codemirror_mode": {
    "name": "ipython",
    "version": 2
   },
   "file_extension": ".py",
   "mimetype": "text/x-python",
   "name": "python",
   "nbconvert_exporter": "python",
   "pygments_lexer": "ipython2",
   "version": "2.7.10"
  }
 },
 "nbformat": 4,
 "nbformat_minor": 0
}
