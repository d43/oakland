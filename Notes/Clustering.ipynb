{
 "cells": [
  {
   "cell_type": "code",
   "execution_count": 1,
   "metadata": {
    "collapsed": true
   },
   "outputs": [],
   "source": [
    "import psycopg2\n",
    "import pandas as pd\n",
    "import numpy as np\n",
    "import statsmodels.api as sm\n",
    "from scipy import stats\n",
    "import matplotlib.pyplot as plt\n",
    "%matplotlib inline"
   ]
  },
  {
   "cell_type": "code",
   "execution_count": 2,
   "metadata": {
    "collapsed": false
   },
   "outputs": [
    {
     "name": "stdout",
     "output_type": "stream",
     "text": [
      "/Users/danaezoule/Documents/oakland-crime-housing\n"
     ]
    }
   ],
   "source": [
    "cd .."
   ]
  },
  {
   "cell_type": "code",
   "execution_count": 25,
   "metadata": {
    "collapsed": false
   },
   "outputs": [
    {
     "name": "stdout",
     "output_type": "stream",
     "text": [
      "Creating Database\n",
      "Connecting to Database\n",
      "Creating Crime Table\n",
      "Loading Shapes\n",
      "Creating Crime Geom Table\n",
      "Creating Feature Table\n"
     ]
    }
   ],
   "source": [
    "execfile(\"database.py\")"
   ]
  },
  {
   "cell_type": "code",
   "execution_count": 26,
   "metadata": {
    "collapsed": true
   },
   "outputs": [],
   "source": [
    "conn = psycopg2.connect(\"dbname=oakland user=danaezoule\")\n",
    "cur = conn.cursor()\n",
    "cur.execute(\"SELECT * FROM area_features;\")\n",
    "df = pd.DataFrame(cur.fetchall())"
   ]
  },
  {
   "cell_type": "code",
   "execution_count": 27,
   "metadata": {
    "collapsed": true
   },
   "outputs": [],
   "source": [
    "cdf = df.copy()"
   ]
  },
  {
   "cell_type": "code",
   "execution_count": 44,
   "metadata": {
    "collapsed": false
   },
   "outputs": [
    {
     "name": "stdout",
     "output_type": "stream",
     "text": [
      "\n"
     ]
    }
   ],
   "source": [
    "'''\n",
    "cdf.columns = ['Idx', 'OPD_RD', 'Date', 'Time', 'Lat', 'Lng', 'year', 'year_month', 'quality', 'nonviolent', 'car_break_in', 'car_theft', 'violent', 'geom', 'block_group']\n",
    "cdf['quarter'] = pd.DatetimeIndex(cdf.Date).quarter\n",
    "cdf['day_of_week'] = pd.DatetimeIndex(cdf.Date).dayofweek\n",
    "cdf['week'] = pd.DatetimeIndex(cdf.Date).week\n",
    "cdf['month'] = pd.DatetimeIndex(cdf.Date).month\n",
    "cdf['day'] = pd.DatetimeIndex(cdf.Date).day\n",
    "cdf['day_of_year'] = pd.DatetimeIndex(cdf.Date).dayofyear\n",
    "cdf['week_of_year'] = pd.DatetimeIndex(cdf.Date).weekofyear\n",
    "cdf['hour'] = [i.hour for i in cdf.Time]\n",
    "#combine date and time column so I can plot over 'em\n",
    "cdf['Datetime'] = pd.to_datetime(cdf['Date'].astype(str) + ' ' + cdf['Time'].astype(str))\n",
    "'''"
   ]
  },
  {
   "cell_type": "code",
   "execution_count": 28,
   "metadata": {
    "collapsed": false
   },
   "outputs": [],
   "source": [
    "cdf.columns = ['Group_Block', 'Quality', 'Nonviolent', 'Vehicle_Break_In', 'Vehicle_Theft', 'Violent']"
   ]
  },
  {
   "cell_type": "code",
   "execution_count": 29,
   "metadata": {
    "collapsed": false
   },
   "outputs": [
    {
     "data": {
      "text/html": [
       "<div>\n",
       "<table border=\"1\" class=\"dataframe\">\n",
       "  <thead>\n",
       "    <tr style=\"text-align: right;\">\n",
       "      <th></th>\n",
       "      <th>Group_Block</th>\n",
       "      <th>Quality</th>\n",
       "      <th>Nonviolent</th>\n",
       "      <th>Vehicle_Break_In</th>\n",
       "      <th>Vehicle_Theft</th>\n",
       "      <th>Violent</th>\n",
       "    </tr>\n",
       "  </thead>\n",
       "  <tbody>\n",
       "    <tr>\n",
       "      <th>0</th>\n",
       "      <td>3623</td>\n",
       "      <td>0</td>\n",
       "      <td>0</td>\n",
       "      <td>0</td>\n",
       "      <td>1</td>\n",
       "      <td>0</td>\n",
       "    </tr>\n",
       "    <tr>\n",
       "      <th>1</th>\n",
       "      <td>3368</td>\n",
       "      <td>0</td>\n",
       "      <td>1</td>\n",
       "      <td>0</td>\n",
       "      <td>0</td>\n",
       "      <td>0</td>\n",
       "    </tr>\n",
       "    <tr>\n",
       "      <th>2</th>\n",
       "      <td>3028</td>\n",
       "      <td>30</td>\n",
       "      <td>133</td>\n",
       "      <td>132</td>\n",
       "      <td>44</td>\n",
       "      <td>27</td>\n",
       "    </tr>\n",
       "    <tr>\n",
       "      <th>3</th>\n",
       "      <td>21203</td>\n",
       "      <td>0</td>\n",
       "      <td>1</td>\n",
       "      <td>0</td>\n",
       "      <td>0</td>\n",
       "      <td>0</td>\n",
       "    </tr>\n",
       "    <tr>\n",
       "      <th>4</th>\n",
       "      <td>10945</td>\n",
       "      <td>215</td>\n",
       "      <td>207</td>\n",
       "      <td>47</td>\n",
       "      <td>192</td>\n",
       "      <td>346</td>\n",
       "    </tr>\n",
       "  </tbody>\n",
       "</table>\n",
       "</div>"
      ],
      "text/plain": [
       "   Group_Block  Quality  Nonviolent  Vehicle_Break_In  Vehicle_Theft  Violent\n",
       "0         3623        0           0                 0              1        0\n",
       "1         3368        0           1                 0              0        0\n",
       "2         3028       30         133               132             44       27\n",
       "3        21203        0           1                 0              0        0\n",
       "4        10945      215         207                47            192      346"
      ]
     },
     "execution_count": 29,
     "metadata": {},
     "output_type": "execute_result"
    }
   ],
   "source": [
    "cdf.head()"
   ]
  },
  {
   "cell_type": "code",
   "execution_count": 30,
   "metadata": {
    "collapsed": true
   },
   "outputs": [],
   "source": [
    "from sklearn.cluster import KMeans\n",
    "km = KMeans()"
   ]
  },
  {
   "cell_type": "code",
   "execution_count": 36,
   "metadata": {
    "collapsed": false
   },
   "outputs": [],
   "source": [
    "clus = km.fit_predict(cdf[['Quality', 'Nonviolent', 'Vehicle_Break_In', 'Vehicle_Theft', 'Violent']])"
   ]
  },
  {
   "cell_type": "code",
   "execution_count": 37,
   "metadata": {
    "collapsed": false
   },
   "outputs": [
    {
     "data": {
      "text/plain": [
       "array([3, 3, 6, 3, 5, 3, 6, 3, 6, 3, 1, 3, 7, 3, 3, 6, 3, 6, 6, 3, 3, 1, 1,\n",
       "       4, 6, 3, 5, 1, 1, 4, 6, 6, 1, 6, 6, 6, 3, 1, 6, 3, 3, 1, 6, 3, 6, 5,\n",
       "       6, 6, 6, 3, 3, 1, 6, 3, 1, 0, 6, 1, 1, 1, 0, 1, 1, 3, 6, 6, 1, 1, 6,\n",
       "       3, 6, 3, 5, 6, 3, 3, 1, 1, 6, 6, 3, 1, 5, 3, 1, 3, 6, 3, 3, 3, 5, 3,\n",
       "       6, 1, 3, 6, 6, 6, 3, 3, 3, 2, 3, 1, 1, 3, 3, 3, 6, 3, 3, 3, 6, 6, 3,\n",
       "       3, 5, 3, 3, 1, 1, 1, 6, 6, 3, 3, 1, 6, 6, 3, 1, 3, 3, 3, 6, 3, 3, 3,\n",
       "       3, 3, 6, 1, 1, 1, 3, 6, 3, 3, 1, 5, 3, 3, 0, 3, 6, 1, 3, 6, 6, 1, 3,\n",
       "       6, 6, 6, 6, 3, 6, 3, 3, 5, 6, 3, 5, 6, 3, 1, 2, 1, 5, 3, 1, 1, 0, 6,\n",
       "       3, 1, 1, 6, 6, 1, 6, 1, 1, 6, 6, 1, 1, 3, 3, 3, 6, 1, 3, 3, 1, 3, 1,\n",
       "       1, 6, 1, 3, 1, 1, 3, 1, 1, 6, 1, 1, 6, 3, 0, 1, 3, 3, 3, 5, 5, 3, 1,\n",
       "       4, 3, 3, 5, 1, 6, 1, 3, 3, 1, 6, 3, 1, 3, 0, 6, 4, 1, 6, 3, 3, 3, 6,\n",
       "       1, 5, 3, 6, 3, 3, 0, 0, 1, 3, 3, 3, 1, 6, 3, 3, 1, 1, 3, 1, 1, 3, 3,\n",
       "       1, 6, 0, 4, 3, 6, 0, 3, 3, 6, 6, 3, 3, 7, 1, 3, 1, 3, 0, 0, 3, 3, 5,\n",
       "       5, 6, 3, 3, 3, 6, 3, 6, 6, 3, 1, 6, 1, 1, 6, 6, 3, 3, 5, 3, 3, 1, 1,\n",
       "       1, 1, 6, 3, 6, 4, 6, 4, 3, 1, 5, 6, 6, 6, 3, 1, 5, 3, 3, 3, 3, 6, 3,\n",
       "       5, 3, 3, 5, 3, 6, 0, 1, 6, 3, 3, 3, 3, 3, 1, 6, 6, 6, 3, 3, 3, 1, 6,\n",
       "       3, 1, 5, 3, 1, 6, 6, 3, 3, 6, 3, 6, 6, 1, 6, 1, 6, 3, 6, 6, 6, 3, 0,\n",
       "       1, 3, 6, 3, 3, 3, 1, 5, 1, 1, 3, 6, 3, 6, 3, 1, 1, 5, 3, 3, 3, 3, 0,\n",
       "       6, 0, 6, 3, 3, 3, 6, 3, 6, 6, 1, 1, 4, 5, 6, 1, 0, 6, 6, 3, 3, 3, 3,\n",
       "       3, 3, 3, 4, 1, 1, 1, 5, 6, 1, 6, 3, 1, 1, 1, 3, 6, 6, 3, 1, 3, 6, 3,\n",
       "       1, 1, 3, 6, 3, 6, 3, 3, 1, 5, 3, 3, 6, 6, 5, 1, 6, 1, 6, 3, 1, 3, 3,\n",
       "       6, 3, 3, 6, 6, 3, 1, 1, 1, 1, 3, 3, 1, 0, 6, 3, 3, 3], dtype=int32)"
      ]
     },
     "execution_count": 37,
     "metadata": {},
     "output_type": "execute_result"
    }
   ],
   "source": [
    "clus"
   ]
  },
  {
   "cell_type": "code",
   "execution_count": null,
   "metadata": {
    "collapsed": true
   },
   "outputs": [],
   "source": [
    "'''Feature Engineering Brainstorming:\n",
    "Normalization:\n",
    "    Normalize by population: none, assume census divisions cover this\n",
    "    Normalize by geography (square footage or meterage)\n",
    "    Normalize by total crime count\n",
    "\n",
    "Geographical:\n",
    "    Census tracts, group blocks, or blocks\n",
    "\n",
    "Time Group By:\n",
    "    Month, quarter, year\n",
    "\n",
    "Time features:\n",
    "    Count for weekday or weekend\n",
    "    Count for time of day (morning, afternoon, eve, night)\n",
    "        Split by data. First hypothesis:\n",
    "        Morning: 6am-noon\n",
    "        Afternoon: noon-6pm\n",
    "        Eve: 6pm-midnight\n",
    "        Early: midnight-6am\n",
    "    \n",
    "Housing etc:\n",
    "    Are Trulia neighborhoods census tracts? Can I get block group info from Trulia?\n",
    "    Will the ACS be helpful? Can I get yearly or quarterly ACS information?\n",
    "    \n",
    "Time component:\n",
    "    Create centroids from earliest data, map all points to same centroids\n",
    "    Create new centroids for each year (with varied data) as below \n",
    "    \n",
    "Data that varies from year to year:\n",
    "    If I use it, can I detect similar centroids between years?\n",
    "    Should I instead ignore this completely, despite losing Lovely connection?\n",
    "'''"
   ]
  },
  {
   "cell_type": "code",
   "execution_count": null,
   "metadata": {
    "collapsed": true
   },
   "outputs": [],
   "source": []
  }
 ],
 "metadata": {
  "kernelspec": {
   "display_name": "Python 2",
   "language": "python",
   "name": "python2"
  },
  "language_info": {
   "codemirror_mode": {
    "name": "ipython",
    "version": 2
   },
   "file_extension": ".py",
   "mimetype": "text/x-python",
   "name": "python",
   "nbconvert_exporter": "python",
   "pygments_lexer": "ipython2",
   "version": "2.7.10"
  }
 },
 "nbformat": 4,
 "nbformat_minor": 0
}
