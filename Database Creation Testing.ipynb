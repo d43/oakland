{
 "cells": [
  {
   "cell_type": "code",
   "execution_count": 51,
   "metadata": {
    "collapsed": false
   },
   "outputs": [],
   "source": [
    "import psycopg2\n",
    "import pandas as pd\n",
    "from crime_dict import crime_dict\n",
    "from subprocess import call"
   ]
  },
  {
   "cell_type": "code",
   "execution_count": 16,
   "metadata": {
    "collapsed": true
   },
   "outputs": [],
   "source": [
    "def create_database(db_name):\n",
    "    con = psycopg2.connect(dbname='postgres', user='danaezoule', host='localhost')\n",
    "    con.autocommit = True\n",
    "    cur = con.cursor()\n",
    "    cur.execute('CREATE DATABASE ' + db_name + \";\")"
   ]
  },
  {
   "cell_type": "code",
   "execution_count": 58,
   "metadata": {
    "collapsed": false
   },
   "outputs": [],
   "source": [
    "cdf = pd.read_csv(\"data/OPD_150308.csv\")\n",
    "cdf.Date = pd.to_datetime(cdf.Date)\n",
    "cdf['Year'] = pd.DatetimeIndex(cdf.Date).year\n",
    "cdf['Year_Month'] = cdf.Date.map(lambda x: 1000*x.year + x.month)\n",
    "cdf.drop(['OPD_RD', 'OIdx', 'CType', 'Desc', 'Beat', 'Addr', 'Src', 'UCR', 'Statute'], axis=1, inplace=True)\n",
    "\n",
    "d = crime_dict(cdf)\n",
    "cdf.CrimeCat = cdf.CrimeCat.map(d)\n",
    "cdf_dummy = pd.get_dummies(cdf, prefix='CTYPE', columns=['CrimeCat'])\n",
    "cdf_dummy.dropna(inplace=True)\n",
    "cdf_dummy.to_csv(\"data/cdf.csv\", header=None)"
   ]
  },
  {
   "cell_type": "code",
   "execution_count": 59,
   "metadata": {
    "collapsed": false
   },
   "outputs": [
    {
     "name": "stdout",
     "output_type": "stream",
     "text": [
      "<class 'pandas.core.frame.DataFrame'>\n",
      "Int64Index: 608857 entries, 0 to 679449\n",
      "Data columns (total 19 columns):\n",
      "Idx                            608857 non-null int64\n",
      "Date                           608857 non-null datetime64[ns]\n",
      "Time                           608857 non-null object\n",
      "Lat                            608857 non-null float64\n",
      "Lng                            608857 non-null float64\n",
      "Year                           608857 non-null int32\n",
      "Year_Month                     608857 non-null int64\n",
      "CTYPE_DOM-VIOL                 608857 non-null float64\n",
      "CTYPE_NONVIOLENT               608857 non-null float64\n",
      "CTYPE_OTHER                    608857 non-null float64\n",
      "CTYPE_OTHER_MISSING-PERSON     608857 non-null float64\n",
      "CTYPE_OTHER_RUNAWAY            608857 non-null float64\n",
      "CTYPE_QUALITY                  608857 non-null float64\n",
      "CTYPE_TRAFFIC_MISDEMEANOR      608857 non-null float64\n",
      "CTYPE_TRAFFIC_TOWED-VEHICLE    608857 non-null float64\n",
      "CTYPE_VEHICLE_BREAK_IN         608857 non-null float64\n",
      "CTYPE_VEHICLE_THEFT            608857 non-null float64\n",
      "CTYPE_VIOLENT                  608857 non-null float64\n",
      "CTYPE_WARRANT                  608857 non-null float64\n",
      "dtypes: datetime64[ns](1), float64(14), int32(1), int64(2), object(1)\n",
      "memory usage: 90.6+ MB\n"
     ]
    }
   ],
   "source": [
    "cdf_dummy.info()"
   ]
  },
  {
   "cell_type": "code",
   "execution_count": null,
   "metadata": {
    "collapsed": true
   },
   "outputs": [],
   "source": []
  }
 ],
 "metadata": {
  "kernelspec": {
   "display_name": "Python 2",
   "language": "python",
   "name": "python2"
  },
  "language_info": {
   "codemirror_mode": {
    "name": "ipython",
    "version": 2
   },
   "file_extension": ".py",
   "mimetype": "text/x-python",
   "name": "python",
   "nbconvert_exporter": "python",
   "pygments_lexer": "ipython2",
   "version": "2.7.10"
  }
 },
 "nbformat": 4,
 "nbformat_minor": 0
}
