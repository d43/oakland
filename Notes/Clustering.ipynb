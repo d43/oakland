{
 "cells": [
  {
   "cell_type": "code",
   "execution_count": 1,
   "metadata": {
    "collapsed": true
   },
   "outputs": [],
   "source": [
    "import psycopg2\n",
    "import pandas as pd\n",
    "import numpy as np\n",
    "import statsmodels.api as sm\n",
    "from scipy import stats\n",
    "import matplotlib.pyplot as plt\n",
    "%matplotlib inline"
   ]
  },
  {
   "cell_type": "code",
   "execution_count": 24,
   "metadata": {
    "collapsed": false
   },
   "outputs": [],
   "source": [
    "conn = psycopg2.connect(\"dbname=oakland user=danaezoule\")\n",
    "cur = conn.cursor()\n",
    "cur.execute(\"SELECT * FROM area_features;\")\n",
    "df = pd.DataFrame(cur.fetchall())\n",
    "cdf = df.copy()\n",
    "cdf.columns = ['Group_Block', 'Year', 'Quality', 'Nonviolent', 'Vehicle_Break_In', 'Vehicle_Theft', 'Violent']"
   ]
  },
  {
   "cell_type": "code",
   "execution_count": 30,
   "metadata": {
    "collapsed": true
   },
   "outputs": [],
   "source": [
    "# Splitting data by year, clustering by first year, predicting clusters for following years.\n",
    "# Simple clustering model - first pass - on count on crimes in each category.\n",
    "from sklearn.cluster import KMeans\n",
    "km = KMeans()\n",
    "columns = ['Quality', 'Nonviolent', 'Vehicle_Break_In', 'Vehicle_Theft', 'Violent']\n",
    "clus = km.fit_predict(cdf[cdf.Year == 2009].sort('Group_Block')[columns])\n",
    "clus10 = km.predict(cdf[cdf.Year == 2010].sort('Group_Block')[columns])\n",
    "clus11 = km.predict(cdf[cdf.Year == 2011].sort('Group_Block')[columns])"
   ]
  },
  {
   "cell_type": "code",
   "execution_count": null,
   "metadata": {
    "collapsed": true
   },
   "outputs": [],
   "source": [
    "'''Feature Engineering Brainstorming:\n",
    "Normalization:\n",
    "    Normalize by population: none, assume census divisions cover this\n",
    "    Normalize by geography (square footage or meterage)\n",
    "    Normalize by total crime count\n",
    "\n",
    "Geographical:\n",
    "    Census tracts, group blocks, or blocks\n",
    "\n",
    "Time Group By:\n",
    "    Month, quarter, year\n",
    "\n",
    "Time features:\n",
    "    Count for weekday or weekend\n",
    "    Count for time of day (morning, afternoon, eve, night)\n",
    "        Split by data. First hypothesis:\n",
    "        Morning: 6am-noon\n",
    "        Afternoon: noon-6pm\n",
    "        Eve: 6pm-midnight\n",
    "        Early: midnight-6am\n",
    "    \n",
    "Housing etc:\n",
    "    Are Trulia neighborhoods census tracts? Can I get block group info from Trulia?\n",
    "    Will the ACS be helpful? Can I get yearly or quarterly ACS information?\n",
    "    \n",
    "Time component:\n",
    "    Create centroids from earliest data, map all points to same centroids\n",
    "    Create new centroids for each year (with varied data) as below \n",
    "    \n",
    "Data that varies from year to year:\n",
    "    If I use it, can I detect similar centroids between years?\n",
    "    Should I instead ignore this completely, despite losing Lovely connection?\n",
    "'''"
   ]
  },
  {
   "cell_type": "code",
   "execution_count": 16,
   "metadata": {
    "collapsed": false
   },
   "outputs": [],
   "source": [
    "conn = psycopg2.connect(\"dbname=oakland user=danaezoule\")\n",
    "cur = conn.cursor()\n",
    "cur.execute(\"SELECT * FROM crime;\")\n",
    "df = pd.DataFrame(cur.fetchall())\n",
    "cdf = df.copy()\n",
    "cdf.columns = cdf.columns = ['Idx', 'OPD_RD', 'Date', 'Time', 'Lat', 'Lng', 'year', 'year_month', 'quality', 'nonviolent', 'car_break_in', 'car_theft', 'violent', 'geom']\n",
    "cdf['day_of_week'] = pd.DatetimeIndex(cdf.Date).dayofweek\n",
    "cdf['hour'] = [i.hour for i in cdf.Time]"
   ]
  },
  {
   "cell_type": "code",
   "execution_count": 23,
   "metadata": {
    "collapsed": false
   },
   "outputs": [
    {
     "data": {
      "text/html": [
       "<div>\n",
       "<table border=\"1\" class=\"dataframe\">\n",
       "  <thead>\n",
       "    <tr style=\"text-align: right;\">\n",
       "      <th></th>\n",
       "      <th>Idx</th>\n",
       "      <th>Lat</th>\n",
       "      <th>Lng</th>\n",
       "      <th>year</th>\n",
       "      <th>year_month</th>\n",
       "      <th>quality</th>\n",
       "      <th>nonviolent</th>\n",
       "      <th>car_break_in</th>\n",
       "      <th>car_theft</th>\n",
       "      <th>violent</th>\n",
       "      <th>day_of_week</th>\n",
       "      <th>hour</th>\n",
       "    </tr>\n",
       "  </thead>\n",
       "  <tbody>\n",
       "    <tr>\n",
       "      <th>count</th>\n",
       "      <td>224403.000000</td>\n",
       "      <td>224403.000000</td>\n",
       "      <td>224403.000000</td>\n",
       "      <td>224403.000000</td>\n",
       "      <td>224403.000000</td>\n",
       "      <td>224403.000000</td>\n",
       "      <td>224403.000000</td>\n",
       "      <td>224403.000000</td>\n",
       "      <td>224403.000000</td>\n",
       "      <td>224403.000000</td>\n",
       "      <td>224403.000000</td>\n",
       "      <td>224403.000000</td>\n",
       "    </tr>\n",
       "    <tr>\n",
       "      <th>mean</th>\n",
       "      <td>478469.990245</td>\n",
       "      <td>37.790798</td>\n",
       "      <td>-122.224579</td>\n",
       "      <td>2011.608267</td>\n",
       "      <td>2011614.733471</td>\n",
       "      <td>0.170439</td>\n",
       "      <td>0.282594</td>\n",
       "      <td>0.138733</td>\n",
       "      <td>0.165738</td>\n",
       "      <td>0.242497</td>\n",
       "      <td>2.968423</td>\n",
       "      <td>12.821157</td>\n",
       "    </tr>\n",
       "    <tr>\n",
       "      <th>std</th>\n",
       "      <td>133396.127438</td>\n",
       "      <td>0.094039</td>\n",
       "      <td>0.366965</td>\n",
       "      <td>1.743823</td>\n",
       "      <td>1743.642339</td>\n",
       "      <td>0.376019</td>\n",
       "      <td>0.450262</td>\n",
       "      <td>0.345668</td>\n",
       "      <td>0.371846</td>\n",
       "      <td>0.428594</td>\n",
       "      <td>1.977916</td>\n",
       "      <td>7.158425</td>\n",
       "    </tr>\n",
       "    <tr>\n",
       "      <th>min</th>\n",
       "      <td>2.000000</td>\n",
       "      <td>0.000000</td>\n",
       "      <td>-122.672055</td>\n",
       "      <td>2009.000000</td>\n",
       "      <td>2009001.000000</td>\n",
       "      <td>0.000000</td>\n",
       "      <td>0.000000</td>\n",
       "      <td>0.000000</td>\n",
       "      <td>0.000000</td>\n",
       "      <td>0.000000</td>\n",
       "      <td>0.000000</td>\n",
       "      <td>0.000000</td>\n",
       "    </tr>\n",
       "    <tr>\n",
       "      <th>25%</th>\n",
       "      <td>369538.000000</td>\n",
       "      <td>37.768153</td>\n",
       "      <td>-122.264240</td>\n",
       "      <td>2010.000000</td>\n",
       "      <td>2010007.000000</td>\n",
       "      <td>0.000000</td>\n",
       "      <td>0.000000</td>\n",
       "      <td>0.000000</td>\n",
       "      <td>0.000000</td>\n",
       "      <td>0.000000</td>\n",
       "      <td>1.000000</td>\n",
       "      <td>8.000000</td>\n",
       "    </tr>\n",
       "    <tr>\n",
       "      <th>50%</th>\n",
       "      <td>487141.000000</td>\n",
       "      <td>37.794056</td>\n",
       "      <td>-122.226953</td>\n",
       "      <td>2012.000000</td>\n",
       "      <td>2012003.000000</td>\n",
       "      <td>0.000000</td>\n",
       "      <td>0.000000</td>\n",
       "      <td>0.000000</td>\n",
       "      <td>0.000000</td>\n",
       "      <td>0.000000</td>\n",
       "      <td>3.000000</td>\n",
       "      <td>14.000000</td>\n",
       "    </tr>\n",
       "    <tr>\n",
       "      <th>75%</th>\n",
       "      <td>599825.500000</td>\n",
       "      <td>37.811339</td>\n",
       "      <td>-122.193836</td>\n",
       "      <td>2013.000000</td>\n",
       "      <td>2013007.000000</td>\n",
       "      <td>0.000000</td>\n",
       "      <td>1.000000</td>\n",
       "      <td>0.000000</td>\n",
       "      <td>0.000000</td>\n",
       "      <td>0.000000</td>\n",
       "      <td>5.000000</td>\n",
       "      <td>19.000000</td>\n",
       "    </tr>\n",
       "    <tr>\n",
       "      <th>max</th>\n",
       "      <td>679442.000000</td>\n",
       "      <td>48.159570</td>\n",
       "      <td>0.000000</td>\n",
       "      <td>2015.000000</td>\n",
       "      <td>2015012.000000</td>\n",
       "      <td>1.000000</td>\n",
       "      <td>1.000000</td>\n",
       "      <td>1.000000</td>\n",
       "      <td>1.000000</td>\n",
       "      <td>1.000000</td>\n",
       "      <td>6.000000</td>\n",
       "      <td>23.000000</td>\n",
       "    </tr>\n",
       "  </tbody>\n",
       "</table>\n",
       "</div>"
      ],
      "text/plain": [
       "                 Idx            Lat            Lng           year  \\\n",
       "count  224403.000000  224403.000000  224403.000000  224403.000000   \n",
       "mean   478469.990245      37.790798    -122.224579    2011.608267   \n",
       "std    133396.127438       0.094039       0.366965       1.743823   \n",
       "min         2.000000       0.000000    -122.672055    2009.000000   \n",
       "25%    369538.000000      37.768153    -122.264240    2010.000000   \n",
       "50%    487141.000000      37.794056    -122.226953    2012.000000   \n",
       "75%    599825.500000      37.811339    -122.193836    2013.000000   \n",
       "max    679442.000000      48.159570       0.000000    2015.000000   \n",
       "\n",
       "           year_month        quality     nonviolent   car_break_in  \\\n",
       "count   224403.000000  224403.000000  224403.000000  224403.000000   \n",
       "mean   2011614.733471       0.170439       0.282594       0.138733   \n",
       "std       1743.642339       0.376019       0.450262       0.345668   \n",
       "min    2009001.000000       0.000000       0.000000       0.000000   \n",
       "25%    2010007.000000       0.000000       0.000000       0.000000   \n",
       "50%    2012003.000000       0.000000       0.000000       0.000000   \n",
       "75%    2013007.000000       0.000000       1.000000       0.000000   \n",
       "max    2015012.000000       1.000000       1.000000       1.000000   \n",
       "\n",
       "           car_theft        violent    day_of_week           hour  \n",
       "count  224403.000000  224403.000000  224403.000000  224403.000000  \n",
       "mean        0.165738       0.242497       2.968423      12.821157  \n",
       "std         0.371846       0.428594       1.977916       7.158425  \n",
       "min         0.000000       0.000000       0.000000       0.000000  \n",
       "25%         0.000000       0.000000       1.000000       8.000000  \n",
       "50%         0.000000       0.000000       3.000000      14.000000  \n",
       "75%         0.000000       0.000000       5.000000      19.000000  \n",
       "max         1.000000       1.000000       6.000000      23.000000  "
      ]
     },
     "execution_count": 23,
     "metadata": {},
     "output_type": "execute_result"
    }
   ],
   "source": [
    "# look for outliers with respect to hour, day of week\n",
    "# lat/long outliers are controlled for by only selecting areas with crime counts with min 1/year\n",
    "cdf.describe()"
   ]
  },
  {
   "cell_type": "code",
   "execution_count": 44,
   "metadata": {
    "collapsed": false
   },
   "outputs": [
    {
     "name": "stdout",
     "output_type": "stream",
     "text": [
      "\n"
     ]
    }
   ],
   "source": [
    "'''\n",
    "cdf.columns = ['Idx', 'OPD_RD', 'Date', 'Time', 'Lat', 'Lng', 'year', 'year_month', 'quality', 'nonviolent', 'car_break_in', 'car_theft', 'violent', 'geom', 'block_group']\n",
    "#cdf['quarter'] = pd.DatetimeIndex(cdf.Date).quarter\n",
    "cdf['day_of_week'] = pd.DatetimeIndex(cdf.Date).dayofweek\n",
    "#cdf['week'] = pd.DatetimeIndex(cdf.Date).week\n",
    "#cdf['month'] = pd.DatetimeIndex(cdf.Date).month\n",
    "#cdf['day'] = pd.DatetimeIndex(cdf.Date).day\n",
    "#cdf['day_of_year'] = pd.DatetimeIndex(cdf.Date).dayofyear\n",
    "#cdf['week_of_year'] = pd.DatetimeIndex(cdf.Date).weekofyear\n",
    "cdf['hour'] = [i.hour for i in cdf.Time]\n",
    "#combine date and time column so I can plot over 'em\n",
    "#cdf['Datetime'] = pd.to_datetime(cdf['Date'].astype(str) + ' ' + cdf['Time'].astype(str))\n",
    "'''"
   ]
  },
  {
   "cell_type": "code",
   "execution_count": 56,
   "metadata": {
    "collapsed": true
   },
   "outputs": [],
   "source": []
  }
 ],
 "metadata": {
  "kernelspec": {
   "display_name": "Python 2",
   "language": "python",
   "name": "python2"
  },
  "language_info": {
   "codemirror_mode": {
    "name": "ipython",
    "version": 2
   },
   "file_extension": ".py",
   "mimetype": "text/x-python",
   "name": "python",
   "nbconvert_exporter": "python",
   "pygments_lexer": "ipython2",
   "version": "2.7.10"
  }
 },
 "nbformat": 4,
 "nbformat_minor": 0
}
