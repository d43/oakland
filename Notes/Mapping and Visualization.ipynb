{
 "cells": [
  {
   "cell_type": "code",
   "execution_count": null,
   "metadata": {
    "collapsed": true
   },
   "outputs": [],
   "source": [
    "'''Notes from Kevin:\n",
    "This is javascript!\n",
    "\n",
    "Style stuff\n",
    "Google API log-in call (script source- loads library?)\n",
    "Create some variables, assign a couple locations\n",
    "Function initialize:\n",
    "    Where to center map, what zoom level to start at\n",
    "    Map options\n",
    "    Create new map (google.maps.Map)\n",
    "    \n",
    "    block_geo_dict (json object), safe helps get data in\n",
    "    then addGeoJson to add in layers\n",
    "    \n",
    "    How to pull in data?\n",
    "        make query, go in line by line\n",
    "        See Zein/Kevin's example\n",
    "    \n",
    "    Slider:\n",
    "'''"
   ]
  },
  {
   "cell_type": "code",
   "execution_count": null,
   "metadata": {
    "collapsed": true
   },
   "outputs": [],
   "source": [
    "'''\n",
    "Mapping desires:\n",
    "\n",
    "Google API\n",
    "\n",
    "Map data by census group block and census track\n",
    "Look at clusters for each and pick final model\n",
    "\n",
    "Slider for year\n",
    "\n",
    "Hover-over with data distribution for neighborhood\n",
    "'''"
   ]
  }
 ],
 "metadata": {
  "kernelspec": {
   "display_name": "Python 2",
   "language": "python",
   "name": "python2"
  },
  "language_info": {
   "codemirror_mode": {
    "name": "ipython",
    "version": 2
   },
   "file_extension": ".py",
   "mimetype": "text/x-python",
   "name": "python",
   "nbconvert_exporter": "python",
   "pygments_lexer": "ipython2",
   "version": "2.7.10"
  }
 },
 "nbformat": 4,
 "nbformat_minor": 0
}
