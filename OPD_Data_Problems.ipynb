{
 "cells": [
  {
   "cell_type": "code",
   "execution_count": 239,
   "metadata": {
    "collapsed": true
   },
   "outputs": [],
   "source": [
    "import pandas as pd\n",
    "import numpy as np\n",
    "from crime_dict import crime_dict\n",
    "%matplotlib inline\n",
    "\n",
    "from operator import itemgetter # for getting max tuple quickly"
   ]
  },
  {
   "cell_type": "code",
   "execution_count": 252,
   "metadata": {
    "collapsed": false
   },
   "outputs": [],
   "source": [
    "'''\n",
    "Investigating changes in OPD reporting starting in April of 2014\n",
    "'''\n",
    "\n",
    "# Load in data and pre-process\n",
    "cdf = pd.read_csv(\"data/OPD_150308.csv\")\n",
    "cdf.Date = pd.to_datetime(cdf.Date)\n",
    "cdf['year'] = pd.DatetimeIndex(cdf.Date).year\n",
    "cdf.drop(['Idx', 'OIdx', 'CType', 'Desc', 'Beat', 'Addr', 'Src', 'UCR', 'Statute'], axis=1, inplace=True)\n",
    "\n",
    "# Remove two categories that don't trend well over time.\n",
    "cdf = cdf[np.logical_not(cdf.CrimeCat.isin(['LARCENY_FRAUD', 'LARCENY_FORGERY_COUNTERFEIT']))]\n",
    "\n",
    "# Remove 2007 and 2008 because of unparsable duplicates\n",
    "cdf = cdf[cdf.year > 2008]\n",
    "\n",
    "# Remove NaN's\n",
    "cdf.dropna(inplace=True)\n",
    "\n",
    "# Map to meta crime categories, imported from crime_dict.py\n",
    "''' VIOLENT = 5\n",
    "    VEHICLE_THEFT = 4\n",
    "    VEHICLE_BREAK_IN = 3\n",
    "    NONVIOLENT = 2\n",
    "    QUALITY = 1'''\n",
    "d = crime_dict(cdf)\n",
    "cdf.CrimeCat = cdf.CrimeCat.map(d)\n",
    "\n",
    "# Remove meta crime categories that don't trend well over time.\n",
    "cdf = cdf[np.logical_not(cdf.CrimeCat.isin(['DOM-VIOL', 'OTHER', 'TRAFFIC_TOWED-VEHICLE', 'WARRANT', 'TRAFFIC_MISDEMEANOR', 'OTHER_MISSING-PERSON', 'OTHER_RUNAWAY']))]\n",
    "\n",
    "# Drop easy duplicates\n",
    "cdf = cdf.drop_duplicates()\n",
    "\n",
    "# Identify remaining OPD_RD's with multiple entries\n",
    "duplicates = cdf[cdf.duplicated('OPD_RD')].OPD_RD.unique()\n",
    "\n",
    "# For each OPR_RD with mutiple entries, identify the entry with worst crime\n",
    "# violent > vehicle_theft > vehicle_break_in > nonviolent > quality\n",
    "# And drop other rows\n",
    "\n",
    "drop_me = []\n",
    "for crime_id in duplicates:\n",
    "    l = []\n",
    "    for row in cdf[cdf.OPD_RD == crime_id].itertuples():\n",
    "        l.append((row[0], row[6]))\n",
    "    l = [i[0] for i in l if not i == max(l, key=itemgetter(1))]\n",
    "    drop_me.extend(l)\n",
    "\n",
    "cdf.drop(drop_me, inplace=True)"
   ]
  },
  {
   "cell_type": "code",
   "execution_count": 234,
   "metadata": {
    "collapsed": false
   },
   "outputs": [
    {
     "data": {
      "text/plain": [
       "CrimeCat  year\n",
       "1         2009     8418\n",
       "          2010     7158\n",
       "          2011     5283\n",
       "          2012     5790\n",
       "          2013     5282\n",
       "          2014     5645\n",
       "          2015      721\n",
       "2         2009    10294\n",
       "          2010    10298\n",
       "          2011    10907\n",
       "          2012    12136\n",
       "          2013    10942\n",
       "          2014     8548\n",
       "          2015      917\n",
       "3         2009     3963\n",
       "          2010     3247\n",
       "          2011     3707\n",
       "          2012     6511\n",
       "          2013     6454\n",
       "          2014     6555\n",
       "          2015      780\n",
       "4         2009     6075\n",
       "          2010     4488\n",
       "          2011     5721\n",
       "          2012     6824\n",
       "          2013     7107\n",
       "          2014     6119\n",
       "          2015      865\n",
       "5         2009     8358\n",
       "          2010     8481\n",
       "          2011     8207\n",
       "          2012    10173\n",
       "          2013    10025\n",
       "          2014     8095\n",
       "          2015     1078\n",
       "Name: OPD_RD, dtype: int64"
      ]
     },
     "execution_count": 234,
     "metadata": {},
     "output_type": "execute_result"
    }
   ],
   "source": [
    "cdf.drop_duplicates().groupby(['CrimeCat','year']).OPD_RD.count()"
   ]
  },
  {
   "cell_type": "markdown",
   "metadata": {},
   "source": [
    "Which categories have disappeared?\n",
    "    Many, especially from 2007/2008\n",
    "    2014 category drops:\n",
    "    OTHER\n",
    "    OTHER_MISSING_PERSON\n",
    "    DOM-VIOL\n",
    "    OTHER-RUNAWAY\n",
    "    TRAFFIC_MISDEMEANOR\n",
    "    TRAFFIC_TOWED_VEHICLE\n",
    "    WARRENT\n",
    "Could they have been swallowed by other categories?\n",
    "    Not the above categories, no. Remove them from my analysis.\n",
    "    Too much change in data from (2007, 2008) to (2009 - present).\n",
    "    Discard 2007, 2008 data"
   ]
  },
  {
   "cell_type": "code",
   "execution_count": 3,
   "metadata": {
    "collapsed": true
   },
   "outputs": [],
   "source": [
    "#2) collapse the rest by meta crime group!"
   ]
  },
  {
   "cell_type": "code",
   "execution_count": 190,
   "metadata": {
    "collapsed": false
   },
   "outputs": [
    {
     "data": {
      "text/plain": [
       "NONVIOLENT               113562\n",
       "VIOLENT                  111769\n",
       "QUALITY                   86863\n",
       "VEHICLE_THEFT             71826\n",
       "DOM-VIOL                  57889\n",
       "OTHER                     52337\n",
       "VEHICLE_BREAK_IN          42247\n",
       "TRAFFIC_TOWED-VEHICLE     25377\n",
       "WARRANT                   15213\n",
       "TRAFFIC_MISDEMEANOR        5979\n",
       "OTHER_MISSING-PERSON       3891\n",
       "OTHER_RUNAWAY               390\n",
       "dtype: int64"
      ]
     },
     "execution_count": 190,
     "metadata": {},
     "output_type": "execute_result"
    }
   ],
   "source": [
    "cdf.CrimeCat.value_counts()"
   ]
  },
  {
   "cell_type": "code",
   "execution_count": 135,
   "metadata": {
    "collapsed": false
   },
   "outputs": [
    {
     "data": {
      "text/plain": [
       "(461713, 7)"
      ]
     },
     "execution_count": 135,
     "metadata": {},
     "output_type": "execute_result"
    }
   ],
   "source": [
    "# How many unique rows do we have\n",
    "# after we perform the map and have dropped other categories?\n",
    "# This dataframe includes OPD_RD, Date, Time, Lat, Lng, CrimeCat\n",
    "cdf.drop_duplicates().shape"
   ]
  },
  {
   "cell_type": "code",
   "execution_count": 136,
   "metadata": {
    "collapsed": false
   },
   "outputs": [
    {
     "data": {
      "text/plain": [
       "(19570, 7)"
      ]
     },
     "execution_count": 136,
     "metadata": {},
     "output_type": "execute_result"
    }
   ],
   "source": [
    "# Of these, how many duplicates do we still have in OPD_RD?\n",
    "first_dupes = cdf.drop_duplicates().duplicated('OPD_RD')\n",
    "last_dupes = cdf.drop_duplicates().duplicated('OPD_RD', take_last=True)\n",
    "cdf.drop_duplicates()[first_dupes | last_dupes].shape"
   ]
  },
  {
   "cell_type": "code",
   "execution_count": 137,
   "metadata": {
    "collapsed": false
   },
   "outputs": [],
   "source": [
    "# What rows are they duplicated on? Sadly, crimecat.\n",
    "still_dupes = cdf.drop_duplicates()[first_dupes | last_dupes]"
   ]
  },
  {
   "cell_type": "code",
   "execution_count": 148,
   "metadata": {
    "collapsed": false
   },
   "outputs": [],
   "source": [
    "# Which rows have the duplicates?\n",
    "output = []\n",
    "for row in still_dupes.itertuples():\n",
    "    output.append((row[1],row[6], row[7]))"
   ]
  },
  {
   "cell_type": "code",
   "execution_count": 165,
   "metadata": {
    "collapsed": false
   },
   "outputs": [
    {
     "data": {
      "text/plain": [
       "array([[<matplotlib.axes._subplots.AxesSubplot object at 0x12e677210>]], dtype=object)"
      ]
     },
     "execution_count": 165,
     "metadata": {},
     "output_type": "execute_result"
    },
    {
     "data": {
      "image/png": "[encoded data removed]",
      "text/plain": [
       "<matplotlib.figure.Figure at 0x12db4d4d0>"
      ]
     },
     "metadata": {},
     "output_type": "display_data"
    }
   ],
   "source": [
    "# 2007 and 2008 are especially bad. drop them from the analysis.\n",
    "l = []\n",
    "for i in output:\n",
    "    l.append(i[2])\n",
    "l = pd.DataFrame(l)\n",
    "l.hist(bins=20)"
   ]
  },
  {
   "cell_type": "code",
   "execution_count": 208,
   "metadata": {
    "collapsed": false
   },
   "outputs": [
    {
     "data": {
      "text/plain": [
       "NONVIOLENT               91339\n",
       "VIOLENT                  77919\n",
       "VEHICLE_THEFT            55286\n",
       "QUALITY                  55181\n",
       "DOM-VIOL                 49611\n",
       "OTHER                    48597\n",
       "VEHICLE_BREAK_IN         38105\n",
       "TRAFFIC_TOWED-VEHICLE    23050\n",
       "WARRANT                  13564\n",
       "TRAFFIC_MISDEMEANOR       4827\n",
       "OTHER_MISSING-PERSON      3848\n",
       "OTHER_RUNAWAY              386\n",
       "dtype: int64"
      ]
     },
     "execution_count": 208,
     "metadata": {},
     "output_type": "execute_result"
    }
   ],
   "source": [
    "cdf.drop_duplicates().CrimeCat.value_counts()"
   ]
  },
  {
   "cell_type": "code",
   "execution_count": 192,
   "metadata": {
    "collapsed": false
   },
   "outputs": [
    {
     "data": {
      "text/plain": [
       "CrimeCat              year\n",
       "DOM-VIOL              2007     7263\n",
       "                      2008     6955\n",
       "                      2009     6859\n",
       "                      2010     6549\n",
       "                      2011     6465\n",
       "                      2012     6527\n",
       "                      2013     5839\n",
       "                      2014     2809\n",
       "                      2015      345\n",
       "NONVIOLENT            2007    10942\n",
       "                      2008    11337\n",
       "                      2009    11041\n",
       "                      2010    10916\n",
       "                      2011    11589\n",
       "                      2012    13378\n",
       "                      2013    12099\n",
       "                      2014     9083\n",
       "                      2015      954\n",
       "OTHER                 2007     7389\n",
       "                      2008     7037\n",
       "                      2009     7581\n",
       "                      2010     7554\n",
       "                      2011     6444\n",
       "                      2012     6332\n",
       "                      2013     5758\n",
       "                      2014      456\n",
       "                      2015       46\n",
       "OTHER_MISSING-PERSON  2007      565\n",
       "                      2008      579\n",
       "                      2009      532\n",
       "                              ...  \n",
       "VEHICLE_BREAK_IN      2012     6511\n",
       "                      2013     6454\n",
       "                      2014     6555\n",
       "                      2015      780\n",
       "VEHICLE_THEFT         2007     9894\n",
       "                      2008     8193\n",
       "                      2009     6075\n",
       "                      2010     4488\n",
       "                      2011     5721\n",
       "                      2012     6824\n",
       "                      2013     7107\n",
       "                      2014     6119\n",
       "                      2015      865\n",
       "VIOLENT               2007    11704\n",
       "                      2008    11798\n",
       "                      2009     8358\n",
       "                      2010     8481\n",
       "                      2011     8207\n",
       "                      2012    10173\n",
       "                      2013    10025\n",
       "                      2014     8095\n",
       "                      2015     1078\n",
       "WARRANT               2007     3041\n",
       "                      2008     3038\n",
       "                      2009     2323\n",
       "                      2010     1844\n",
       "                      2011      936\n",
       "                      2012     1426\n",
       "                      2013      952\n",
       "                      2014        4\n",
       "Name: Date, dtype: int64"
      ]
     },
     "execution_count": 192,
     "metadata": {},
     "output_type": "execute_result"
    }
   ],
   "source": [
    "# Are categories now roughly stable over time?\n",
    "# No.\n",
    "# Which categories can be trusted?\n",
    "# Quality, Vehicle_Theft, Vehicle_Break_In, Violent\n",
    "\n",
    "# How did I determine what could be trusted? Look at drop for Dom-Viol\n",
    "# Drop is really large. Remove from analysis and model\n",
    "# on \"reliable\" data. This isn't cherry-picking per-se because we're\n",
    "# only going to predict crime that we feel we can trust- we're not\n",
    "# ignoring it, but we're not going to model it. Let's see how crime-we\n",
    "# can-trust affects neighorhoods.\n",
    "\n",
    "cdf.drop_duplicates().groupby(['CrimeCat','year']).Date.count()"
   ]
  },
  {
   "cell_type": "code",
   "execution_count": null,
   "metadata": {
    "collapsed": true
   },
   "outputs": [],
   "source": [
    "# Look at Nonviolent to see if there are subcategories that dropped\n",
    "# too much in 2014\n",
    "\n",
    "# Do this on dataframe before mapping:\n",
    "# cdf.drop_duplicates().groupby(['CrimeCat','year']).Date.count()\n",
    "\n",
    "# Which labels I should drop entirely to stabilize Nonviolent crime?\n",
    "# From above command:\n",
    "# drop LARCENY_FRAUD, LARCENY_FORGERY_COUNTERFEIT\n",
    "'''\n",
    "Yearly data from 2007-2008 for LARCENY_FRAUD:\n",
    "2007\t1328\n",
    "2008\t1406\n",
    "2009\t1168\n",
    "2010\t749\n",
    "2011\t856\n",
    "2012\t1427\n",
    "2013\t1337\n",
    "2014\t652\n",
    "'''\n",
    "# drop LARCENY_FORGERY_COUNTERFEIT\n",
    "'''\n",
    "Yearly data from 2007-2014 for LARCENY_FORGERY_COUNTERFEIT:\n",
    "2007\t949\n",
    "2008\t828\n",
    "2009\t691\n",
    "2010\t794\n",
    "2011\t781\n",
    "2012\t776\n",
    "2013\t872\n",
    "2014\t22\n",
    "'''"
   ]
  }
 ],
 "metadata": {
  "kernelspec": {
   "display_name": "Python 2",
   "language": "python",
   "name": "python2"
  },
  "language_info": {
   "codemirror_mode": {
    "name": "ipython",
    "version": 2
   },
   "file_extension": ".py",
   "mimetype": "text/x-python",
   "name": "python",
   "nbconvert_exporter": "python",
   "pygments_lexer": "ipython2",
   "version": "2.7.10"
  }
 },
 "nbformat": 4,
 "nbformat_minor": 0
}
