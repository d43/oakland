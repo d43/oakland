{
 "cells": [
  {
   "cell_type": "code",
   "execution_count": 30,
   "metadata": {
    "collapsed": true
   },
   "outputs": [],
   "source": [
    "import psycopg2\n",
    "import pandas as pd\n",
    "from sklearn.cluster import AgglomerativeClustering\n",
    "from sklearn.decomposition import PCA\n",
    "from sklearn.preprocessing import StandardScaler\n",
    "from sklearn.cluster import KMeans\n",
    "\n",
    "import matplotlib.pyplot as plt\n",
    "%matplotlib inline"
   ]
  },
  {
   "cell_type": "code",
   "execution_count": 31,
   "metadata": {
    "collapsed": true
   },
   "outputs": [],
   "source": [
    "conn = psycopg2.connect(\"dbname=oakland user=danaezoule\")\n",
    "cur = conn.cursor()\n",
    "cur.execute(\"SELECT * FROM area_features;\")\n",
    "df = pd.DataFrame(cur.fetchall())\n",
    "cdf = df.copy()"
   ]
  },
  {
   "cell_type": "code",
   "execution_count": 32,
   "metadata": {
    "collapsed": true
   },
   "outputs": [],
   "source": [
    "cur.execute(\"SELECT COLUMN_NAME FROM INFORMATION_SCHEMA.COLUMNS WHERE TABLE_NAME='area_features';\")\n",
    "col_df = pd.DataFrame(cur.fetchall())\n",
    "col_df.columns = ['labels']\n",
    "cdf.columns = col_df['labels'].tolist()"
   ]
  },
  {
   "cell_type": "code",
   "execution_count": 33,
   "metadata": {
    "collapsed": false
   },
   "outputs": [],
   "source": [
    "df_index = pd.DataFrame(cdf.pop('ogc_fid'))\n",
    "df_index['year'] = cdf.pop('year')"
   ]
  },
  {
   "cell_type": "code",
   "execution_count": 34,
   "metadata": {
    "collapsed": false
   },
   "outputs": [],
   "source": [
    "ss = StandardScaler()\n",
    "scaled_df = pd.DataFrame(ss.fit_transform(cdf))\n",
    "scaled_df.columns = cdf.columns"
   ]
  },
  {
   "cell_type": "code",
   "execution_count": 35,
   "metadata": {
    "collapsed": false
   },
   "outputs": [],
   "source": [
    "pca = PCA(n_components = 5)\n",
    "pca_df = pd.DataFrame(pca.fit_transform(scaled_df))\n",
    "pca_df['ogc_fid'] = df_index['ogc_fid']\n",
    "pca_df['year'] = df_index['year']"
   ]
  },
  {
   "cell_type": "code",
   "execution_count": 21,
   "metadata": {
    "collapsed": true
   },
   "outputs": [],
   "source": [
    "km = KMeans(n_clusters = 7)"
   ]
  },
  {
   "cell_type": "code",
   "execution_count": 39,
   "metadata": {
    "collapsed": false
   },
   "outputs": [
    {
     "name": "stdout",
     "output_type": "stream",
     "text": [
      "    q_count  q_weekend  q_morning  q_workday  q_evening     q_hr0     q_hr1  \\\n",
      "0  4.453484   2.955682   4.424294   2.680615   4.805665  3.887803  4.579624   \n",
      "1  5.126001   3.696540   2.554346   6.641341   4.154051  4.306216  1.127188   \n",
      "2  3.444710   1.473967   2.866004   2.985286   3.409349  2.632565  1.990297   \n",
      "3  2.580046   2.511168   1.619372   1.918937   2.757735  2.632565  1.127188   \n",
      "4  1.523234   0.584937   1.619372   1.309595   1.361419  1.377327  2.853406   \n",
      "\n",
      "     q_hr2     q_hr3     q_hr4  ...     v_hr23    v_dow0    v_dow1    v_dow2  \\\n",
      "0  2.28296  3.623515 -0.426723  ...   2.948876  2.176622  1.566614  0.148666   \n",
      "1  0.38150  5.017331 -0.426723  ...   2.413097  1.649565  3.577824  1.587509   \n",
      "2  0.38150  5.017331  1.214397  ...   2.948876  2.967208  1.853930  1.875278   \n",
      "3  0.38150  0.835881 -0.426723  ...   1.341541  2.176622  4.152455  1.587509   \n",
      "4 -0.56923  0.835881 -0.426723  ...   2.948876  2.967208  2.141246  3.026352   \n",
      "\n",
      "     v_dow3    v_dow4    v_dow5    v_dow6  ogc_fid  year  \n",
      "0  1.801778  1.856437  2.499878  1.438285     1723  2009  \n",
      "1  2.353970  1.599780  0.439417  1.438285     1723  2010  \n",
      "2  1.525682  1.086466  2.499878  2.622578     1723  2011  \n",
      "3  2.077874  1.343123  1.584118  3.096295     1723  2012  \n",
      "4  2.906163  2.626409  0.897297  1.912002     1723  2013  \n",
      "\n",
      "[5 rows x 182 columns]\n"
     ]
    },
    {
     "data": {
      "text/plain": [
       "0       True\n",
       "1       True\n",
       "2       True\n",
       "3       True\n",
       "4       True\n",
       "5       True\n",
       "6       True\n",
       "7       True\n",
       "8       True\n",
       "9       True\n",
       "10      True\n",
       "11      True\n",
       "12      True\n",
       "13      True\n",
       "14      True\n",
       "15      True\n",
       "16      True\n",
       "17      True\n",
       "18      True\n",
       "19      True\n",
       "20      True\n",
       "21      True\n",
       "22      True\n",
       "23      True\n",
       "24      True\n",
       "25      True\n",
       "26      True\n",
       "27      True\n",
       "28      True\n",
       "29      True\n",
       "        ... \n",
       "4062    True\n",
       "4063    True\n",
       "4064    True\n",
       "4065    True\n",
       "4066    True\n",
       "4067    True\n",
       "4068    True\n",
       "4069    True\n",
       "4070    True\n",
       "4071    True\n",
       "4072    True\n",
       "4073    True\n",
       "4074    True\n",
       "4075    True\n",
       "4076    True\n",
       "4077    True\n",
       "4078    True\n",
       "4079    True\n",
       "4080    True\n",
       "4081    True\n",
       "4082    True\n",
       "4083    True\n",
       "4084    True\n",
       "4085    True\n",
       "4086    True\n",
       "4087    True\n",
       "4088    True\n",
       "4089    True\n",
       "4090    True\n",
       "4091    True\n",
       "Name: year, dtype: bool"
      ]
     },
     "execution_count": 39,
     "metadata": {},
     "output_type": "execute_result"
    }
   ],
   "source": [
    "print scaled_df.head()\n",
    "pca_df = scaled_df\n",
    "pca_df['ogc_fid'] = df_index['ogc_fid']\n",
    "pca_df['year'] = df_index['year']\n",
    "pca_df.year == df_index.year"
   ]
  },
  {
   "cell_type": "code",
   "execution_count": null,
   "metadata": {
    "collapsed": true
   },
   "outputs": [],
   "source": []
  }
 ],
 "metadata": {
  "kernelspec": {
   "display_name": "Python 2",
   "language": "python",
   "name": "python2"
  },
  "language_info": {
   "codemirror_mode": {
    "name": "ipython",
    "version": 2
   },
   "file_extension": ".py",
   "mimetype": "text/x-python",
   "name": "python",
   "nbconvert_exporter": "python",
   "pygments_lexer": "ipython2",
   "version": "2.7.10"
  }
 },
 "nbformat": 4,
 "nbformat_minor": 0
}
